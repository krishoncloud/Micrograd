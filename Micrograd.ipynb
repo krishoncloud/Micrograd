{
  "nbformat": 4,
  "nbformat_minor": 0,
  "metadata": {
    "colab": {
      "provenance": []
    },
    "kernelspec": {
      "name": "python3",
      "display_name": "Python 3"
    },
    "language_info": {
      "name": "python"
    }
  },
  "cells": [
    {
      "cell_type": "code",
      "execution_count": null,
      "metadata": {
        "id": "p4doLQdlXUXd"
      },
      "outputs": [],
      "source": [
        "class Variable:\n",
        "    def __init__(self, data, _children=(), _op=''):\n",
        "        self.data = data  # The value of this variable\n",
        "        self.grad = 0  # The gradient of this variable, initialized to 0\n",
        "        self._backward = lambda: None  # Function for backpropagation\n",
        "        self._children = set(_children)  # Set of parent Variables\n",
        "        self._op = _op  # Operation that created this variable (e.g., '+', '*')\n",
        "\n",
        "    def __repr__(self):\n",
        "        return f\"Variable(data={self.data}, grad={self.grad})\"\n"
      ]
    },
    {
      "cell_type": "code",
      "source": [
        "def __add__(self, other):\n",
        "    other = other if isinstance(other, Variable) else Variable(other)\n",
        "\n",
        "    out = Variable(self.data + other.data, _children=(self, other), _op='+')\n",
        "\n",
        "    # Define the backward function for addition\n",
        "    def _backward():\n",
        "        self.grad += out.grad  # d(out)/d(self) = 1\n",
        "        other.grad += out.grad  # d(out)/d(other) = 1\n",
        "    out._backward = _backward\n",
        "\n",
        "    return out\n",
        "\n",
        "Variable.__add__ = __add__\n"
      ],
      "metadata": {
        "id": "C2emhpp4XZiB"
      },
      "execution_count": null,
      "outputs": []
    },
    {
      "cell_type": "code",
      "source": [
        "def __mul__(self, other):\n",
        "    other = other if isinstance(other, Variable) else Variable(other)\n",
        "\n",
        "    out = Variable(self.data * other.data, _children=(self, other), _op='*')\n",
        "\n",
        "    def _backward():\n",
        "        self.grad += other.data * out.grad  # d(out)/d(self) = other.data\n",
        "        other.grad += self.data * out.grad  # d(out)/d(other) = self.data\n",
        "    out._backward = _backward\n",
        "\n",
        "    return out\n",
        "\n",
        "Variable.__mul__ = __mul__\n"
      ],
      "metadata": {
        "id": "UCsh167gXcjm"
      },
      "execution_count": null,
      "outputs": []
    },
    {
      "cell_type": "code",
      "source": [
        "def __pow__(self, exponent):\n",
        "    assert isinstance(exponent, (int, float)), \"Exponent must be a scalar.\"\n",
        "\n",
        "    out = Variable(self.data ** exponent, _children=(self,), _op=f'**{exponent}')\n",
        "\n",
        "    def _backward():\n",
        "        self.grad += (exponent * self.data ** (exponent - 1)) * out.grad  # d(out)/d(self) = exponent * x^(exponent-1)\n",
        "    out._backward = _backward\n",
        "\n",
        "    return out\n",
        "\n",
        "Variable.__pow__ = __pow__\n"
      ],
      "metadata": {
        "id": "EZU6Qrz3XeSG"
      },
      "execution_count": null,
      "outputs": []
    },
    {
      "cell_type": "code",
      "source": [
        "import math\n",
        "\n",
        "def tanh(self):\n",
        "    x = self.data\n",
        "    t = (math.exp(2 * x) - 1) / (math.exp(2 * x) + 1)\n",
        "    out = Variable(t, _children=(self,), _op='tanh')\n",
        "\n",
        "    def _backward():\n",
        "        self.grad += (1 - t ** 2) * out.grad  # d(tanh(x))/dx = 1 - tanh(x)^2\n",
        "    out._backward = _backward\n",
        "\n",
        "    return out\n",
        "\n",
        "Variable.tanh = tanh\n"
      ],
      "metadata": {
        "id": "SDvo1vUnXfsg"
      },
      "execution_count": null,
      "outputs": []
    },
    {
      "cell_type": "code",
      "source": [
        "def backward(self):\n",
        "    topo = []\n",
        "    visited = set()\n",
        "\n",
        "    # Depth-first search to sort the graph topologically\n",
        "    def build_topo(v):\n",
        "        if v not in visited:\n",
        "            visited.add(v)\n",
        "            for child in v._children:\n",
        "                build_topo(child)\n",
        "            topo.append(v)\n",
        "\n",
        "    build_topo(self)\n",
        "\n",
        "    # Set the gradient of the output variable to 1\n",
        "    self.grad = 1\n",
        "    for v in reversed(topo):\n",
        "        v._backward()\n",
        "\n",
        "Variable.backward = backward\n"
      ],
      "metadata": {
        "id": "WV8Sn64FXhip"
      },
      "execution_count": null,
      "outputs": []
    },
    {
      "cell_type": "code",
      "source": [
        "# Create a Variable\n",
        "x = Variable(2.0)\n",
        "\n",
        "# Define a function f(x) = x^2 + 3*x + 2\n",
        "f = x ** 2 + Variable(3) * x + Variable(2)\n",
        "\n",
        "# Perform backpropagation to compute the gradient\n",
        "f.backward()\n",
        "\n",
        "print(\"Value of f(x):\", f.data)   # Should be 12 (for x=2)\n",
        "print(\"Gradient df/dx:\", x.grad)  # Should be 7 (for x=2)\n"
      ],
      "metadata": {
        "colab": {
          "base_uri": "https://localhost:8080/"
        },
        "id": "pd6fHt06XjXo",
        "outputId": "2dd6439b-e172-45ac-c4e3-0dfe78c2a057"
      },
      "execution_count": null,
      "outputs": [
        {
          "output_type": "stream",
          "name": "stdout",
          "text": [
            "Value of f(x): 12.0\n",
            "Gradient df/dx: 7.0\n"
          ]
        }
      ]
    },
    {
      "cell_type": "code",
      "source": [
        "# # import numpy as np\n",
        "# # import matplotlib.pyplot as plt\n",
        "\n",
        "# # # Helper functions\n",
        "# # def linear_forward(x, W, b):\n",
        "# #     return np.dot(x, W) + b\n",
        "\n",
        "# # def batch_norm_forward(x, gamma, beta, epsilon=1e-5):\n",
        "# #     mean = np.mean(x, axis=0)\n",
        "# #     variance = np.var(x, axis=0)\n",
        "# #     x_normalized = (x - mean) / np.sqrt(variance + epsilon)\n",
        "# #     return gamma * x_normalized + beta, x_normalized, mean, variance\n",
        "\n",
        "# # def tanh(x):\n",
        "# #     return np.tanh(x)\n",
        "\n",
        "# # def cross_entropy_loss(logits, targets):\n",
        "# #     exps = np.exp(logits - np.max(logits, axis=1, keepdims=True))\n",
        "# #     softmax = exps / np.sum(exps, axis=1, keepdims=True)\n",
        "# #     n = targets.shape[0]\n",
        "# #     loss = -np.sum(np.log(softmax[np.arange(n), targets])) / n\n",
        "# #     return loss, softmax\n",
        "\n",
        "# # # Define forward pass\n",
        "# # def forward_pass(x, params):\n",
        "# #     z1 = linear_forward(x, params['W1'], params['b1'])\n",
        "# #     bn1, x_norm1, mean1, var1 = batch_norm_forward(z1, params['gamma1'], params['beta1'])\n",
        "# #     a1 = tanh(bn1)\n",
        "\n",
        "# #     z2 = linear_forward(a1, params['W2'], params['b2'])\n",
        "# #     bn2, x_norm2, mean2, var2 = batch_norm_forward(z2, params['gamma2'], params['beta2'])\n",
        "\n",
        "# #     loss, softmax_output = cross_entropy_loss(bn2, params['targets'])\n",
        "\n",
        "# #     cache = {\n",
        "# #         'x': x, 'z1': z1, 'a1': a1, 'z2': z2, 'softmax_output': softmax_output,\n",
        "# #         'x_norm1': x_norm1, 'mean1': mean1, 'var1': var1,\n",
        "# #         'x_norm2': x_norm2, 'mean2': mean2, 'var2': var2\n",
        "# #     }\n",
        "# #     return loss, cache\n",
        "\n",
        "# # # Backpropagation functions\n",
        "# # def cross_entropy_backward(softmax_output, targets):\n",
        "# #     n = softmax_output.shape[0]\n",
        "# #     softmax_output[np.arange(n), targets] -= 1\n",
        "# #     softmax_output /= n\n",
        "# #     return softmax_output\n",
        "\n",
        "# def tanh_backward(a):\n",
        "#     return 1 - a ** 2\n",
        "\n",
        "# def backward_pass(cache, params):\n",
        "#     grads = {}\n",
        "#     dout = cross_entropy_backward(cache['softmax_output'], params['targets'])\n",
        "\n",
        "#     grads['gamma2'] = np.sum(dout * cache['x_norm2'], axis=0)\n",
        "#     grads['beta2'] = np.sum(dout, axis=0)\n",
        "\n",
        "#     d_bn2 = dout * params['gamma2']\n",
        "\n",
        "#     grads['W2'] = np.dot(cache['a1'].T, d_bn2)\n",
        "#     grads['b2'] = np.sum(d_bn2, axis=0)\n",
        "\n",
        "#     d_a1 = np.dot(d_bn2, params['W2'].T)\n",
        "#     d_bn1 = d_a1 * tanh_backward(cache['a1'])\n",
        "\n",
        "#     grads['gamma1'] = np.sum(d_bn1 * cache['x_norm1'], axis=0)\n",
        "#     grads['beta1'] = np.sum(d_bn1, axis=0)\n",
        "\n",
        "#     grads['W1'] = np.dot(cache['x'].T, d_bn1)\n",
        "#     grads['b1'] = np.sum(d_bn1, axis=0)\n",
        "\n",
        "#     return grads\n",
        "\n",
        "# # Gradient descent update\n",
        "# def update_params(params, grads, learning_rate=0.01):\n",
        "#     params['W1'] -= learning_rate * grads['W1']\n",
        "#     params['b1'] -= learning_rate * grads['b1']\n",
        "#     params['gamma1'] -= learning_rate * grads['gamma1']\n",
        "#     params['beta1'] -= learning_rate * grads['beta1']\n",
        "#     params['W2'] -= learning_rate * grads['W2']\n",
        "#     params['b2'] -= learning_rate * grads['b2']\n",
        "#     params['gamma2'] -= learning_rate * grads['gamma2']\n",
        "#     params['beta2'] -= learning_rate * grads['beta2']\n",
        "\n",
        "# # Training the model\n",
        "# def train(x, targets, params, epochs=100, learning_rate=0.01):\n",
        "#     losses = []\n",
        "#     params['targets'] = targets\n",
        "\n",
        "#     for epoch in range(epochs):\n",
        "#         # Forward pass\n",
        "#         loss, cache = forward_pass(x, params)\n",
        "#         losses.append(loss)\n",
        "\n",
        "#         # Backward pass\n",
        "#         grads = backward_pass(cache, params)\n",
        "\n",
        "#         # Update parameters\n",
        "#         update_params(params, grads, learning_rate)\n",
        "\n",
        "#         # Print loss every 10 epochs\n",
        "#         if epoch % 10 == 0:\n",
        "#             print(f'Epoch {epoch}, Loss: {loss}')\n",
        "\n",
        "#     # Visualization of loss\n",
        "#     plt.plot(losses, label=\"Loss over time\")\n",
        "#     plt.xlabel(\"Epoch\")\n",
        "#     plt.ylabel(\"Loss\")\n",
        "#     plt.title(\"Training Loss\")\n",
        "#     plt.legend()\n",
        "#     plt.show()\n",
        "\n",
        "# # Example usage\n",
        "# input_size = 4\n",
        "# hidden_size = 5\n",
        "# output_size = 3\n",
        "# x = np.random.randn(10, input_size)  # Batch of 10 examples\n",
        "# targets = np.array([0, 1, 2, 1, 0, 2, 1, 0, 2, 1])  # Example target classes\n",
        "\n",
        "# # Initialize parameters\n",
        "# params = {\n",
        "#     'W1': np.random.randn(input_size, hidden_size) * 0.01,\n",
        "#     'b1': np.zeros(hidden_size),\n",
        "#     'gamma1': np.ones(hidden_size),\n",
        "#     'beta1': np.zeros(hidden_size),\n",
        "#     'W2': np.random.randn(hidden_size, output_size) * 0.01,\n",
        "#     'b2': np.zeros(output_size),\n",
        "#     'gamma2': np.ones(output_size),\n",
        "#     'beta2': np.zeros(output_size)\n",
        "# }\n",
        "\n",
        "# # Train the model and visualize loss\n",
        "# train(x, targets, params, epochs=100, learning_rate=0.01)\n"
      ],
      "metadata": {
        "colab": {
          "base_uri": "https://localhost:8080/",
          "height": 651
        },
        "id": "kg8M9KguY-Xu",
        "outputId": "7d09ad7e-aad7-469a-e8ab-a3c8ef01af5f"
      },
      "execution_count": null,
      "outputs": [
        {
          "output_type": "stream",
          "name": "stdout",
          "text": [
            "Epoch 0, Loss: 1.3266147898806184\n",
            "Epoch 10, Loss: 0.9103535974664358\n",
            "Epoch 20, Loss: 0.8823241513162223\n",
            "Epoch 30, Loss: 0.8447296277902705\n",
            "Epoch 40, Loss: 0.8067211718964815\n",
            "Epoch 50, Loss: 0.7807752605290924\n",
            "Epoch 60, Loss: 0.762899886451903\n",
            "Epoch 70, Loss: 0.7482271481306461\n",
            "Epoch 80, Loss: 0.7357207367403936\n",
            "Epoch 90, Loss: 0.7249966393307402\n"
          ]
        },
        {
          "output_type": "display_data",
          "data": {
            "text/plain": [
              "<Figure size 640x480 with 1 Axes>"
            ],
            "image/png": "[encoded data removed]"
          },
          "metadata": {}
        }
      ]
    },
    {
      "cell_type": "code",
      "source": [
        "# import torch\n",
        "# import torch.nn as nn\n",
        "# import torch.optim as optim\n",
        "# import numpy as np\n",
        "# import matplotlib.pyplot as plt\n",
        "\n",
        "# # Define the MLP Model\n",
        "# class TwoLayerMLP(nn.Module):\n",
        "#     def __init__(self, input_size, hidden_size, output_size):\n",
        "#         super(TwoLayerMLP, self).__init__()\n",
        "#         self.layer1 = nn.Linear(input_size, hidden_size)\n",
        "#         self.batch_norm1 = nn.BatchNorm1d(hidden_size)\n",
        "#         self.tanh = nn.Tanh()\n",
        "#         self.layer2 = nn.Linear(hidden_size, output_size)\n",
        "#         self.batch_norm2 = nn.BatchNorm1d(output_size)\n",
        "\n",
        "#     def forward(self, x):\n",
        "#         x = self.layer1(x)\n",
        "#         x = self.batch_norm1(x)\n",
        "#         x = self.tanh(x)\n",
        "#         x = self.layer2(x)\n",
        "#         x = self.batch_norm2(x)\n",
        "#         return x\n",
        "\n",
        "# # Hyperparameters\n",
        "# input_size = 4\n",
        "# hidden_size = 5\n",
        "# output_size = 3\n",
        "# learning_rate = 0.01\n",
        "# epochs = 100\n",
        "\n",
        "# # Initialize model, loss, and optimizer\n",
        "# model = TwoLayerMLP(input_size, hidden_size, output_size)\n",
        "# criterion = nn.CrossEntropyLoss()\n",
        "# optimizer = optim.SGD(model.parameters(), lr=learning_rate)\n",
        "\n",
        "# # Generate some example data\n",
        "# x = torch.randn(10, input_size)  # Batch of 10 examples\n",
        "# targets = torch.randint(0, output_size, (10,))  # Random target classes\n",
        "\n",
        "# # Training loop\n",
        "# losses = []\n",
        "# for epoch in range(epochs):\n",
        "#     optimizer.zero_grad()\n",
        "#     outputs = model(x)\n",
        "#     loss = criterion(outputs, targets)\n",
        "#     loss.backward()\n",
        "#     optimizer.step()\n",
        "#     losses.append(loss.item())\n",
        "\n",
        "#     if epoch % 10 == 0:\n",
        "#         print(f'Epoch {epoch}, Loss: {loss.item()}')\n",
        "\n",
        "# # Plot the loss\n",
        "# plt.plot(losses)\n",
        "# plt.xlabel(\"Epoch\")\n",
        "# plt.ylabel(\"Loss\")\n",
        "# plt.title(\"Training Loss\")\n",
        "# plt.show()\n"
      ],
      "metadata": {
        "id": "4TKkjUqpZdB2",
        "outputId": "bed4cfc0-210d-40f8-f8a0-de73d9020b3e",
        "colab": {
          "base_uri": "https://localhost:8080/",
          "height": 651
        }
      },
      "execution_count": null,
      "outputs": [
        {
          "output_type": "stream",
          "name": "stdout",
          "text": [
            "Epoch 0, Loss: 1.7450578212738037\n",
            "Epoch 10, Loss: 1.1947824954986572\n",
            "Epoch 20, Loss: 0.955807089805603\n",
            "Epoch 30, Loss: 0.8792129755020142\n",
            "Epoch 40, Loss: 0.8361631631851196\n",
            "Epoch 50, Loss: 0.8051878809928894\n",
            "Epoch 60, Loss: 0.7798237800598145\n",
            "Epoch 70, Loss: 0.7576080560684204\n",
            "Epoch 80, Loss: 0.7374648451805115\n",
            "Epoch 90, Loss: 0.7188315391540527\n"
          ]
        },
        {
          "output_type": "display_data",
          "data": {
            "text/plain": [
              "<Figure size 640x480 with 1 Axes>"
            ],
            "image/png": "[encoded data removed]"
          },
          "metadata": {}
        }
      ]
    }
  ]
}